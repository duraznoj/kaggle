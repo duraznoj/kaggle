{
 "cells": [
  {
   "cell_type": "code",
   "execution_count": 1,
   "metadata": {},
   "outputs": [
    {
     "data": {
      "text/plain": [
       "'\\nName: Sashka Warner\\nDate: Dec 20, 2022\\nDesc:\\n\\nGoal\\nIt is your job to predict if a passenger survived the sinking of the Titanic or not.\\nFor each in the test set, you must predict a 0 or 1 value for the variable.\\n\\nMetric\\nYour score is the percentage of passengers you correctly predict.\\n'"
      ]
     },
     "execution_count": 1,
     "metadata": {},
     "output_type": "execute_result"
    }
   ],
   "source": [
    "\"\"\"\n",
    "Name: Sashka Warner\n",
    "Date: Dec 20, 2022\n",
    "Desc:\n",
    "\n",
    "Goal\n",
    "It is your job to predict if a passenger survived the sinking of the Titanic or not.\n",
    "For each in the test set, you must predict a 0 or 1 value for the variable.\n",
    "\n",
    "Metric\n",
    "Your score is the percentage of passengers you correctly predict.\n",
    "\"\"\""
   ]
  },
  {
   "cell_type": "code",
   "execution_count": 21,
   "metadata": {},
   "outputs": [],
   "source": [
    "import numpy as np\n",
    "import pandas as pd\n",
    "import re\n",
    "from sklearn.preprocessing import OneHotEncoder\n",
    "from sklearn import tree, metrics\n",
    "from sklearn.tree import DecisionTreeClassifier\n",
    "from sklearn.ensemble import RandomForestClassifier\n",
    "from sklearn.ensemble import GradientBoostingClassifier"
   ]
  },
  {
   "cell_type": "code",
   "execution_count": 3,
   "metadata": {},
   "outputs": [
    {
     "data": {
      "text/html": [
       "<div>\n",
       "<style scoped>\n",
       "    .dataframe tbody tr th:only-of-type {\n",
       "        vertical-align: middle;\n",
       "    }\n",
       "\n",
       "    .dataframe tbody tr th {\n",
       "        vertical-align: top;\n",
       "    }\n",
       "\n",
       "    .dataframe thead th {\n",
       "        text-align: right;\n",
       "    }\n",
       "</style>\n",
       "<table border=\"1\" class=\"dataframe\">\n",
       "  <thead>\n",
       "    <tr style=\"text-align: right;\">\n",
       "      <th></th>\n",
       "      <th>PassengerId</th>\n",
       "      <th>Survived</th>\n",
       "      <th>Pclass</th>\n",
       "      <th>Name</th>\n",
       "      <th>Sex</th>\n",
       "      <th>Age</th>\n",
       "      <th>SibSp</th>\n",
       "      <th>Parch</th>\n",
       "      <th>Ticket</th>\n",
       "      <th>Fare</th>\n",
       "      <th>Cabin</th>\n",
       "      <th>Embarked</th>\n",
       "    </tr>\n",
       "  </thead>\n",
       "  <tbody>\n",
       "    <tr>\n",
       "      <th>0</th>\n",
       "      <td>1</td>\n",
       "      <td>0</td>\n",
       "      <td>3</td>\n",
       "      <td>Braund, Mr. Owen Harris</td>\n",
       "      <td>male</td>\n",
       "      <td>22.0</td>\n",
       "      <td>1</td>\n",
       "      <td>0</td>\n",
       "      <td>A/5 21171</td>\n",
       "      <td>7.2500</td>\n",
       "      <td>NaN</td>\n",
       "      <td>S</td>\n",
       "    </tr>\n",
       "    <tr>\n",
       "      <th>1</th>\n",
       "      <td>2</td>\n",
       "      <td>1</td>\n",
       "      <td>1</td>\n",
       "      <td>Cumings, Mrs. John Bradley (Florence Briggs Th...</td>\n",
       "      <td>female</td>\n",
       "      <td>38.0</td>\n",
       "      <td>1</td>\n",
       "      <td>0</td>\n",
       "      <td>PC 17599</td>\n",
       "      <td>71.2833</td>\n",
       "      <td>C85</td>\n",
       "      <td>C</td>\n",
       "    </tr>\n",
       "    <tr>\n",
       "      <th>2</th>\n",
       "      <td>3</td>\n",
       "      <td>1</td>\n",
       "      <td>3</td>\n",
       "      <td>Heikkinen, Miss. Laina</td>\n",
       "      <td>female</td>\n",
       "      <td>26.0</td>\n",
       "      <td>0</td>\n",
       "      <td>0</td>\n",
       "      <td>STON/O2. 3101282</td>\n",
       "      <td>7.9250</td>\n",
       "      <td>NaN</td>\n",
       "      <td>S</td>\n",
       "    </tr>\n",
       "    <tr>\n",
       "      <th>3</th>\n",
       "      <td>4</td>\n",
       "      <td>1</td>\n",
       "      <td>1</td>\n",
       "      <td>Futrelle, Mrs. Jacques Heath (Lily May Peel)</td>\n",
       "      <td>female</td>\n",
       "      <td>35.0</td>\n",
       "      <td>1</td>\n",
       "      <td>0</td>\n",
       "      <td>113803</td>\n",
       "      <td>53.1000</td>\n",
       "      <td>C123</td>\n",
       "      <td>S</td>\n",
       "    </tr>\n",
       "    <tr>\n",
       "      <th>4</th>\n",
       "      <td>5</td>\n",
       "      <td>0</td>\n",
       "      <td>3</td>\n",
       "      <td>Allen, Mr. William Henry</td>\n",
       "      <td>male</td>\n",
       "      <td>35.0</td>\n",
       "      <td>0</td>\n",
       "      <td>0</td>\n",
       "      <td>373450</td>\n",
       "      <td>8.0500</td>\n",
       "      <td>NaN</td>\n",
       "      <td>S</td>\n",
       "    </tr>\n",
       "  </tbody>\n",
       "</table>\n",
       "</div>"
      ],
      "text/plain": [
       "   PassengerId  Survived  Pclass  \\\n",
       "0            1         0       3   \n",
       "1            2         1       1   \n",
       "2            3         1       3   \n",
       "3            4         1       1   \n",
       "4            5         0       3   \n",
       "\n",
       "                                                Name     Sex   Age  SibSp  \\\n",
       "0                            Braund, Mr. Owen Harris    male  22.0      1   \n",
       "1  Cumings, Mrs. John Bradley (Florence Briggs Th...  female  38.0      1   \n",
       "2                             Heikkinen, Miss. Laina  female  26.0      0   \n",
       "3       Futrelle, Mrs. Jacques Heath (Lily May Peel)  female  35.0      1   \n",
       "4                           Allen, Mr. William Henry    male  35.0      0   \n",
       "\n",
       "   Parch            Ticket     Fare Cabin Embarked  \n",
       "0      0         A/5 21171   7.2500   NaN        S  \n",
       "1      0          PC 17599  71.2833   C85        C  \n",
       "2      0  STON/O2. 3101282   7.9250   NaN        S  \n",
       "3      0            113803  53.1000  C123        S  \n",
       "4      0            373450   8.0500   NaN        S  "
      ]
     },
     "execution_count": 3,
     "metadata": {},
     "output_type": "execute_result"
    }
   ],
   "source": [
    "# Load data\n",
    "train_raw = pd.read_csv(\"./data/train.csv\")\n",
    "test_raw = pd.read_csv(\"./data/test.csv\")\n",
    "train = train_raw.copy()\n",
    "test = test_raw.copy()\n",
    "train.head()"
   ]
  },
  {
   "cell_type": "code",
   "execution_count": 4,
   "metadata": {},
   "outputs": [
    {
     "name": "stdout",
     "output_type": "stream",
     "text": [
      "Column:  PassengerId , Type:  [<class 'int'>] , Has NAs:  False\n",
      "Column:  Survived , Type:  [<class 'int'>] , Has NAs:  False\n",
      "Column:  Pclass , Type:  [<class 'int'>] , Has NAs:  False\n",
      "Column:  Name , Type:  [<class 'str'>] , Has NAs:  False\n",
      "Column:  Sex , Type:  [<class 'str'>] , Has NAs:  False\n",
      "Column:  Age , Type:  [<class 'float'>] , Has NAs:  True\n",
      "Column:  SibSp , Type:  [<class 'int'>] , Has NAs:  False\n",
      "Column:  Parch , Type:  [<class 'int'>] , Has NAs:  False\n",
      "Column:  Ticket , Type:  [<class 'str'>] , Has NAs:  False\n",
      "Column:  Fare , Type:  [<class 'float'>] , Has NAs:  False\n",
      "Column:  Cabin , Type:  [<class 'float'> <class 'str'>] , Has NAs:  True\n",
      "Column:  Embarked , Type:  [<class 'str'> <class 'float'>] , Has NAs:  True\n"
     ]
    }
   ],
   "source": [
    "# Check types and NA's\n",
    "for i in train.columns:\n",
    "    print(\"Column: \", i, \", Type: \", train[i].map(lambda x: type(x)).unique(), \", Has NAs: \", any(train[i].isna()))"
   ]
  },
  {
   "cell_type": "code",
   "execution_count": 5,
   "metadata": {},
   "outputs": [
    {
     "name": "stdout",
     "output_type": "stream",
     "text": [
      "Column:  PassengerId , Type:  [<class 'int'>] , Has NAs:  False\n",
      "Column:  Pclass , Type:  [<class 'int'>] , Has NAs:  False\n",
      "Column:  Name , Type:  [<class 'str'>] , Has NAs:  False\n",
      "Column:  Sex , Type:  [<class 'str'>] , Has NAs:  False\n",
      "Column:  Age , Type:  [<class 'float'>] , Has NAs:  True\n",
      "Column:  SibSp , Type:  [<class 'int'>] , Has NAs:  False\n",
      "Column:  Parch , Type:  [<class 'int'>] , Has NAs:  False\n",
      "Column:  Ticket , Type:  [<class 'str'>] , Has NAs:  False\n",
      "Column:  Fare , Type:  [<class 'float'>] , Has NAs:  True\n",
      "Column:  Cabin , Type:  [<class 'float'> <class 'str'>] , Has NAs:  True\n",
      "Column:  Embarked , Type:  [<class 'str'>] , Has NAs:  False\n"
     ]
    }
   ],
   "source": [
    "# Check types and NA's\n",
    "for i in test.columns:\n",
    "    print(\"Column: \", i, \", Type: \", test[i].map(lambda x: type(x)).unique(), \", Has NAs: \", any(test[i].isna()))"
   ]
  },
  {
   "cell_type": "code",
   "execution_count": 6,
   "metadata": {},
   "outputs": [
    {
     "name": "stdout",
     "output_type": "stream",
     "text": [
      "177\n",
      "86\n",
      "1\n",
      "0\n",
      "0\n",
      "0\n"
     ]
    }
   ],
   "source": [
    "# Check how many rows have NA for Age\n",
    "print(train[\"Age\"].isna().sum())\n",
    "print(test[\"Age\"].isna().sum())\n",
    "print(test[\"Fare\"].isna().sum())\n",
    "\n",
    "# Replace categorical variable NAs with empty strings\n",
    "# Replace numeric variable NAs with average values for the respective columns\n",
    "train.fillna({\n",
    "    \"Cabin\": \"\",\n",
    "    \"Embarked\": \"\",\n",
    "    \"Age\": train[\"Age\"].mean(skipna=True),\n",
    "}, inplace=True)\n",
    "\n",
    "test.fillna({\n",
    "    \"Cabin\": \"\",\n",
    "    \"Age\": train[\"Age\"].mean(skipna=True),\n",
    "    \"Fare\": train[\"Fare\"].mean(skipna=True),\n",
    "}, inplace=True)\n",
    "\n",
    "print(train[\"Age\"].isna().sum())\n",
    "print(test[\"Age\"].isna().sum())\n",
    "print(test[\"Fare\"].isna().sum())"
   ]
  },
  {
   "cell_type": "code",
   "execution_count": 7,
   "metadata": {},
   "outputs": [
    {
     "name": "stdout",
     "output_type": "stream",
     "text": [
      "Column:  PassengerId , Type:  [<class 'int'>] , Has NAs:  False\n",
      "Column:  Survived , Type:  [<class 'int'>] , Has NAs:  False\n",
      "Column:  Pclass , Type:  [<class 'int'>] , Has NAs:  False\n",
      "Column:  Name , Type:  [<class 'str'>] , Has NAs:  False\n",
      "Column:  Sex , Type:  [<class 'str'>] , Has NAs:  False\n",
      "Column:  Age , Type:  [<class 'float'>] , Has NAs:  False\n",
      "Column:  SibSp , Type:  [<class 'int'>] , Has NAs:  False\n",
      "Column:  Parch , Type:  [<class 'int'>] , Has NAs:  False\n",
      "Column:  Ticket , Type:  [<class 'str'>] , Has NAs:  False\n",
      "Column:  Fare , Type:  [<class 'float'>] , Has NAs:  False\n",
      "Column:  Cabin , Type:  [<class 'str'>] , Has NAs:  False\n",
      "Column:  Embarked , Type:  [<class 'str'>] , Has NAs:  False\n"
     ]
    }
   ],
   "source": [
    "# Check types and NA's\n",
    "for i in train.columns:\n",
    "    print(\"Column: \", i, \", Type: \", train[i].map(lambda x: type(x)).unique(), \", Has NAs: \", any(train[i].isna()))"
   ]
  },
  {
   "cell_type": "code",
   "execution_count": 8,
   "metadata": {},
   "outputs": [
    {
     "name": "stdout",
     "output_type": "stream",
     "text": [
      "Column:  PassengerId , Type:  [<class 'int'>] , Has NAs:  False\n",
      "Column:  Pclass , Type:  [<class 'int'>] , Has NAs:  False\n",
      "Column:  Name , Type:  [<class 'str'>] , Has NAs:  False\n",
      "Column:  Sex , Type:  [<class 'str'>] , Has NAs:  False\n",
      "Column:  Age , Type:  [<class 'float'>] , Has NAs:  False\n",
      "Column:  SibSp , Type:  [<class 'int'>] , Has NAs:  False\n",
      "Column:  Parch , Type:  [<class 'int'>] , Has NAs:  False\n",
      "Column:  Ticket , Type:  [<class 'str'>] , Has NAs:  False\n",
      "Column:  Fare , Type:  [<class 'float'>] , Has NAs:  False\n",
      "Column:  Cabin , Type:  [<class 'str'>] , Has NAs:  False\n",
      "Column:  Embarked , Type:  [<class 'str'>] , Has NAs:  False\n"
     ]
    }
   ],
   "source": [
    "# Check types and NA's\n",
    "for i in test.columns:\n",
    "    print(\"Column: \", i, \", Type: \", test[i].map(lambda x: type(x)).unique(), \", Has NAs: \", any(test[i].isna()))"
   ]
  },
  {
   "cell_type": "code",
   "execution_count": 9,
   "metadata": {},
   "outputs": [
    {
     "data": {
      "text/plain": [
       "array(['', 'C85', 'C123', 'E46', 'G6', 'C103', 'D56', 'A6', 'C23 C25 C27',\n",
       "       'B78', 'D33', 'B30', 'C52', 'B28', 'C83', 'F33', 'F G73', 'E31',\n",
       "       'A5', 'D10 D12', 'D26', 'C110', 'B58 B60', 'E101', 'F E69', 'D47',\n",
       "       'B86', 'F2', 'C2', 'E33', 'B19', 'A7', 'C49', 'F4', 'A32', 'B4',\n",
       "       'B80', 'A31', 'D36', 'D15', 'C93', 'C78', 'D35', 'C87', 'B77',\n",
       "       'E67', 'B94', 'C125', 'C99', 'C118', 'D7', 'A19', 'B49', 'D',\n",
       "       'C22 C26', 'C106', 'C65', 'E36', 'C54', 'B57 B59 B63 B66', 'C7',\n",
       "       'E34', 'C32', 'B18', 'C124', 'C91', 'E40', 'T', 'C128', 'D37',\n",
       "       'B35', 'E50', 'C82', 'B96 B98', 'E10', 'E44', 'A34', 'C104',\n",
       "       'C111', 'C92', 'E38', 'D21', 'E12', 'E63', 'A14', 'B37', 'C30',\n",
       "       'D20', 'B79', 'E25', 'D46', 'B73', 'C95', 'B38', 'B39', 'B22',\n",
       "       'C86', 'C70', 'A16', 'C101', 'C68', 'A10', 'E68', 'B41', 'A20',\n",
       "       'D19', 'D50', 'D9', 'A23', 'B50', 'A26', 'D48', 'E58', 'C126',\n",
       "       'B71', 'B51 B53 B55', 'D49', 'B5', 'B20', 'F G63', 'C62 C64',\n",
       "       'E24', 'C90', 'C45', 'E8', 'B101', 'D45', 'C46', 'D30', 'E121',\n",
       "       'D11', 'E77', 'F38', 'B3', 'D6', 'B82 B84', 'D17', 'A36', 'B102',\n",
       "       'B69', 'E49', 'C47', 'D28', 'E17', 'A24', 'C50', 'B42', 'C148'],\n",
       "      dtype=object)"
      ]
     },
     "execution_count": 9,
     "metadata": {},
     "output_type": "execute_result"
    }
   ],
   "source": [
    "# Examine cabin data\n",
    "train[\"Cabin\"].unique()"
   ]
  },
  {
   "cell_type": "code",
   "execution_count": 10,
   "metadata": {},
   "outputs": [
    {
     "data": {
      "text/html": [
       "<div>\n",
       "<style scoped>\n",
       "    .dataframe tbody tr th:only-of-type {\n",
       "        vertical-align: middle;\n",
       "    }\n",
       "\n",
       "    .dataframe tbody tr th {\n",
       "        vertical-align: top;\n",
       "    }\n",
       "\n",
       "    .dataframe thead th {\n",
       "        text-align: right;\n",
       "    }\n",
       "</style>\n",
       "<table border=\"1\" class=\"dataframe\">\n",
       "  <thead>\n",
       "    <tr style=\"text-align: right;\">\n",
       "      <th></th>\n",
       "      <th>PassengerId</th>\n",
       "      <th>Survived</th>\n",
       "      <th>Pclass</th>\n",
       "      <th>Name</th>\n",
       "      <th>Sex</th>\n",
       "      <th>Age</th>\n",
       "      <th>SibSp</th>\n",
       "      <th>Parch</th>\n",
       "      <th>Ticket</th>\n",
       "      <th>Fare</th>\n",
       "      <th>Cabin</th>\n",
       "      <th>Embarked</th>\n",
       "      <th>Floor</th>\n",
       "    </tr>\n",
       "  </thead>\n",
       "  <tbody>\n",
       "    <tr>\n",
       "      <th>886</th>\n",
       "      <td>887</td>\n",
       "      <td>0</td>\n",
       "      <td>2</td>\n",
       "      <td>Montvila, Rev. Juozas</td>\n",
       "      <td>male</td>\n",
       "      <td>27.000000</td>\n",
       "      <td>0</td>\n",
       "      <td>0</td>\n",
       "      <td>211536</td>\n",
       "      <td>13.00</td>\n",
       "      <td></td>\n",
       "      <td>S</td>\n",
       "      <td></td>\n",
       "    </tr>\n",
       "    <tr>\n",
       "      <th>887</th>\n",
       "      <td>888</td>\n",
       "      <td>1</td>\n",
       "      <td>1</td>\n",
       "      <td>Graham, Miss. Margaret Edith</td>\n",
       "      <td>female</td>\n",
       "      <td>19.000000</td>\n",
       "      <td>0</td>\n",
       "      <td>0</td>\n",
       "      <td>112053</td>\n",
       "      <td>30.00</td>\n",
       "      <td>B42</td>\n",
       "      <td>S</td>\n",
       "      <td>B</td>\n",
       "    </tr>\n",
       "    <tr>\n",
       "      <th>888</th>\n",
       "      <td>889</td>\n",
       "      <td>0</td>\n",
       "      <td>3</td>\n",
       "      <td>Johnston, Miss. Catherine Helen \"Carrie\"</td>\n",
       "      <td>female</td>\n",
       "      <td>29.699118</td>\n",
       "      <td>1</td>\n",
       "      <td>2</td>\n",
       "      <td>W./C. 6607</td>\n",
       "      <td>23.45</td>\n",
       "      <td></td>\n",
       "      <td>S</td>\n",
       "      <td></td>\n",
       "    </tr>\n",
       "    <tr>\n",
       "      <th>889</th>\n",
       "      <td>890</td>\n",
       "      <td>1</td>\n",
       "      <td>1</td>\n",
       "      <td>Behr, Mr. Karl Howell</td>\n",
       "      <td>male</td>\n",
       "      <td>26.000000</td>\n",
       "      <td>0</td>\n",
       "      <td>0</td>\n",
       "      <td>111369</td>\n",
       "      <td>30.00</td>\n",
       "      <td>C148</td>\n",
       "      <td>C</td>\n",
       "      <td>C</td>\n",
       "    </tr>\n",
       "    <tr>\n",
       "      <th>890</th>\n",
       "      <td>891</td>\n",
       "      <td>0</td>\n",
       "      <td>3</td>\n",
       "      <td>Dooley, Mr. Patrick</td>\n",
       "      <td>male</td>\n",
       "      <td>32.000000</td>\n",
       "      <td>0</td>\n",
       "      <td>0</td>\n",
       "      <td>370376</td>\n",
       "      <td>7.75</td>\n",
       "      <td></td>\n",
       "      <td>Q</td>\n",
       "      <td></td>\n",
       "    </tr>\n",
       "  </tbody>\n",
       "</table>\n",
       "</div>"
      ],
      "text/plain": [
       "     PassengerId  Survived  Pclass                                      Name  \\\n",
       "886          887         0       2                     Montvila, Rev. Juozas   \n",
       "887          888         1       1              Graham, Miss. Margaret Edith   \n",
       "888          889         0       3  Johnston, Miss. Catherine Helen \"Carrie\"   \n",
       "889          890         1       1                     Behr, Mr. Karl Howell   \n",
       "890          891         0       3                       Dooley, Mr. Patrick   \n",
       "\n",
       "        Sex        Age  SibSp  Parch      Ticket   Fare Cabin Embarked Floor  \n",
       "886    male  27.000000      0      0      211536  13.00              S        \n",
       "887  female  19.000000      0      0      112053  30.00   B42        S     B  \n",
       "888  female  29.699118      1      2  W./C. 6607  23.45              S        \n",
       "889    male  26.000000      0      0      111369  30.00  C148        C     C  \n",
       "890    male  32.000000      0      0      370376   7.75              Q        "
      ]
     },
     "execution_count": 10,
     "metadata": {},
     "output_type": "execute_result"
    }
   ],
   "source": [
    "# Extract deck from cabin values\n",
    "train[\"Floor\"] = train[\"Cabin\"].map(lambda x: re.sub(\"[^a-zA-Z]\", \"\", x))\n",
    "test[\"Floor\"] = test[\"Cabin\"].map(lambda x: re.sub(\"[^a-zA-Z]\", \"\", x))\n",
    "train.tail()"
   ]
  },
  {
   "cell_type": "code",
   "execution_count": 11,
   "metadata": {},
   "outputs": [
    {
     "name": "stdout",
     "output_type": "stream",
     "text": [
      "(891, 4)\n",
      "(418, 4)\n"
     ]
    }
   ],
   "source": [
    "#Get features of interest\n",
    "train_sel = train[[\"Pclass\", \"Sex\", \"Floor\", \"Embarked\"]]\n",
    "test_sel = test[[\"Pclass\", \"Sex\", \"Floor\", \"Embarked\"]]\n",
    "print(train_sel.shape)\n",
    "print(test_sel.shape)"
   ]
  },
  {
   "cell_type": "code",
   "execution_count": 12,
   "metadata": {},
   "outputs": [
    {
     "name": "stdout",
     "output_type": "stream",
     "text": [
      "Index(['Pclass_1', 'Pclass_2', 'Pclass_3', 'Sex_female', 'Sex_male', 'Floor_',\n",
      "       'Floor_A', 'Floor_B', 'Floor_BB', 'Floor_BBB', 'Floor_BBBB', 'Floor_C',\n",
      "       'Floor_CC', 'Floor_CCC', 'Floor_D', 'Floor_DD', 'Floor_E', 'Floor_F',\n",
      "       'Floor_FE', 'Floor_FG', 'Floor_G', 'Floor_T', 'Embarked_', 'Embarked_C',\n",
      "       'Embarked_Q', 'Embarked_S'],\n",
      "      dtype='object')\n",
      "Index(['Pclass_1', 'Pclass_2', 'Pclass_3', 'Sex_female', 'Sex_male', 'Floor_',\n",
      "       'Floor_A', 'Floor_B', 'Floor_BB', 'Floor_BBB', 'Floor_BBBB', 'Floor_C',\n",
      "       'Floor_CC', 'Floor_CCC', 'Floor_D', 'Floor_DD', 'Floor_E', 'Floor_EE',\n",
      "       'Floor_F', 'Floor_FE', 'Floor_FG', 'Floor_G', 'Embarked_C',\n",
      "       'Embarked_Q', 'Embarked_S'],\n",
      "      dtype='object')\n"
     ]
    }
   ],
   "source": [
    "# Convert integer data to one hot encoding\n",
    "train_encoder = OneHotEncoder(sparse=False)\n",
    "train_encoded = train_encoder.fit_transform(train_sel)\n",
    "train_encoded = pd.DataFrame(train_encoded, columns=train_encoder.get_feature_names_out(), dtype=int)\n",
    "train_encoded.reset_index(drop=True, inplace=True)\n",
    "\n",
    "# Do the same for the test data\n",
    "test_encoder = OneHotEncoder(sparse=False)\n",
    "test_encoded = test_encoder.fit_transform(test_sel)\n",
    "test_encoded = pd.DataFrame(test_encoded, columns=test_encoder.get_feature_names_out(), dtype=int)\n",
    "test_encoded.reset_index(drop=True, inplace=True)\n",
    "\n",
    "# Examine output\n",
    "print(train_encoded.columns)\n",
    "print(test_encoded.columns)"
   ]
  },
  {
   "cell_type": "code",
   "execution_count": 13,
   "metadata": {},
   "outputs": [],
   "source": [
    "# Add extra column to training data for \"Floor_EE\" value\n",
    "train_floor_EE = np.zeros(len(train_encoded))\n",
    "train_encoded[\"Floor_EE\"] = train_floor_EE\n",
    "train_encoded = train_encoded[['Pclass_1', 'Pclass_2', 'Pclass_3', 'Sex_female', 'Sex_male', 'Floor_',\n",
    "       'Floor_A', 'Floor_B', 'Floor_BB', 'Floor_BBB', 'Floor_BBBB', 'Floor_C',\n",
    "       'Floor_CC', 'Floor_CCC', 'Floor_D', 'Floor_DD', 'Floor_E', 'Floor_EE',\n",
    "       'Floor_F', 'Floor_FE', 'Floor_FG', 'Floor_G', 'Embarked_C',\n",
    "       'Embarked_Q', 'Embarked_S']]"
   ]
  },
  {
   "cell_type": "code",
   "execution_count": 14,
   "metadata": {},
   "outputs": [],
   "source": [
    "# Add encoded data back to main train df\n",
    "train_numeric = train[[\"Age\", \"SibSp\", \"Parch\", \"Fare\"]]\n",
    "train_numeric.reset_index(drop=True, inplace=True)\n",
    "\n",
    "# Add encoded data back to main test df\n",
    "test_numeric = test[[\"Age\", \"SibSp\", \"Parch\", \"Fare\"]]\n",
    "test_numeric.reset_index(drop=True, inplace=True)"
   ]
  },
  {
   "cell_type": "code",
   "execution_count": 15,
   "metadata": {},
   "outputs": [
    {
     "name": "stdout",
     "output_type": "stream",
     "text": [
      "(891, 29)\n",
      "(418, 29)\n"
     ]
    }
   ],
   "source": [
    "# Concatenate data frames\n",
    "X_train = pd.concat([train_numeric, train_encoded], axis=1)\n",
    "#print(X_train.head())\n",
    "print(X_train.shape)\n",
    "\n",
    "X_test = pd.concat([test_numeric, test_encoded], axis=1)\n",
    "#print(X_test.head())\n",
    "print(X_test.shape)"
   ]
  },
  {
   "cell_type": "code",
   "execution_count": 16,
   "metadata": {},
   "outputs": [
    {
     "name": "stdout",
     "output_type": "stream",
     "text": [
      "0    0\n",
      "1    1\n",
      "2    1\n",
      "3    1\n",
      "4    0\n",
      "Name: Survived, dtype: int64\n"
     ]
    },
    {
     "data": {
      "text/plain": [
       "(891,)"
      ]
     },
     "execution_count": 16,
     "metadata": {},
     "output_type": "execute_result"
    }
   ],
   "source": [
    "# Extract targets\n",
    "y_train = train[\"Survived\"]\n",
    "print(y_train.head())\n",
    "y_train.shape"
   ]
  },
  {
   "cell_type": "code",
   "execution_count": 22,
   "metadata": {},
   "outputs": [],
   "source": [
    "# Create Decision tree classifier\n",
    "#clf = DecisionTreeClassifier()\n",
    "\n",
    "# Create Random forest classifier\n",
    "#clf = RandomForestClassifier()\n",
    "\n",
    "# Create Gradient Boost classifier\n",
    "clf = GradientBoostingClassifier(n_estimators=50, learning_rate=1.0, max_depth=1, random_state=0)\n",
    "\n",
    "# Train the classifier\n",
    "clf = clf.fit(X_train, y_train)"
   ]
  },
  {
   "cell_type": "code",
   "execution_count": 23,
   "metadata": {},
   "outputs": [
    {
     "data": {
      "text/plain": [
       "(418,)"
      ]
     },
     "execution_count": 23,
     "metadata": {},
     "output_type": "execute_result"
    }
   ],
   "source": [
    "# Predict the response for the test dataset\n",
    "y_pred = clf.predict(X_test)\n",
    "y_pred.shape"
   ]
  },
  {
   "cell_type": "code",
   "execution_count": 24,
   "metadata": {},
   "outputs": [
    {
     "data": {
      "text/html": [
       "<div>\n",
       "<style scoped>\n",
       "    .dataframe tbody tr th:only-of-type {\n",
       "        vertical-align: middle;\n",
       "    }\n",
       "\n",
       "    .dataframe tbody tr th {\n",
       "        vertical-align: top;\n",
       "    }\n",
       "\n",
       "    .dataframe thead th {\n",
       "        text-align: right;\n",
       "    }\n",
       "</style>\n",
       "<table border=\"1\" class=\"dataframe\">\n",
       "  <thead>\n",
       "    <tr style=\"text-align: right;\">\n",
       "      <th></th>\n",
       "      <th>PassengerId</th>\n",
       "      <th>Survived</th>\n",
       "    </tr>\n",
       "  </thead>\n",
       "  <tbody>\n",
       "    <tr>\n",
       "      <th>0</th>\n",
       "      <td>892</td>\n",
       "      <td>0</td>\n",
       "    </tr>\n",
       "    <tr>\n",
       "      <th>1</th>\n",
       "      <td>893</td>\n",
       "      <td>0</td>\n",
       "    </tr>\n",
       "    <tr>\n",
       "      <th>2</th>\n",
       "      <td>894</td>\n",
       "      <td>0</td>\n",
       "    </tr>\n",
       "    <tr>\n",
       "      <th>3</th>\n",
       "      <td>895</td>\n",
       "      <td>0</td>\n",
       "    </tr>\n",
       "    <tr>\n",
       "      <th>4</th>\n",
       "      <td>896</td>\n",
       "      <td>0</td>\n",
       "    </tr>\n",
       "    <tr>\n",
       "      <th>...</th>\n",
       "      <td>...</td>\n",
       "      <td>...</td>\n",
       "    </tr>\n",
       "    <tr>\n",
       "      <th>413</th>\n",
       "      <td>1305</td>\n",
       "      <td>0</td>\n",
       "    </tr>\n",
       "    <tr>\n",
       "      <th>414</th>\n",
       "      <td>1306</td>\n",
       "      <td>1</td>\n",
       "    </tr>\n",
       "    <tr>\n",
       "      <th>415</th>\n",
       "      <td>1307</td>\n",
       "      <td>0</td>\n",
       "    </tr>\n",
       "    <tr>\n",
       "      <th>416</th>\n",
       "      <td>1308</td>\n",
       "      <td>0</td>\n",
       "    </tr>\n",
       "    <tr>\n",
       "      <th>417</th>\n",
       "      <td>1309</td>\n",
       "      <td>0</td>\n",
       "    </tr>\n",
       "  </tbody>\n",
       "</table>\n",
       "<p>418 rows × 2 columns</p>\n",
       "</div>"
      ],
      "text/plain": [
       "     PassengerId  Survived\n",
       "0            892         0\n",
       "1            893         0\n",
       "2            894         0\n",
       "3            895         0\n",
       "4            896         0\n",
       "..           ...       ...\n",
       "413         1305         0\n",
       "414         1306         1\n",
       "415         1307         0\n",
       "416         1308         0\n",
       "417         1309         0\n",
       "\n",
       "[418 rows x 2 columns]"
      ]
     },
     "execution_count": 24,
     "metadata": {},
     "output_type": "execute_result"
    }
   ],
   "source": [
    "# Format data for submission\n",
    "y_pred_df = pd.concat([test[\"PassengerId\"], pd.DataFrame(y_pred, columns = [\"Survived\"])], axis=1)\n",
    "y_pred_df"
   ]
  },
  {
   "cell_type": "code",
   "execution_count": 20,
   "metadata": {},
   "outputs": [],
   "source": [
    "# Save to csv\n",
    "y_pred_df.to_csv(\"./predictions/submission.csv\", index=False)"
   ]
  },
  {
   "cell_type": "code",
   "execution_count": null,
   "metadata": {},
   "outputs": [],
   "source": []
  }
 ],
 "metadata": {
  "kernelspec": {
   "display_name": "venv",
   "language": "python",
   "name": "python3"
  },
  "language_info": {
   "codemirror_mode": {
    "name": "ipython",
    "version": 3
   },
   "file_extension": ".py",
   "mimetype": "text/x-python",
   "name": "python",
   "nbconvert_exporter": "python",
   "pygments_lexer": "ipython3",
   "version": "3.10.8 (main, Oct 13 2022, 10:17:43) [Clang 14.0.0 (clang-1400.0.29.102)]"
  },
  "orig_nbformat": 4,
  "vscode": {
   "interpreter": {
    "hash": "1c11d10b35d4c1ac619df50831407dd3e46532131d448e9a126183790e1c5e29"
   }
  }
 },
 "nbformat": 4,
 "nbformat_minor": 2
}
